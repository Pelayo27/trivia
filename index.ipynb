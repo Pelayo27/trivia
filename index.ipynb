{
 "cells": [
  {
   "cell_type": "code",
   "execution_count": 8,
   "metadata": {},
   "outputs": [
    {
     "name": "stdout",
     "output_type": "stream",
     "text": [
      "Oups, Respuesta Incorrecta\n"
     ]
    }
   ],
   "source": [
    "questions={1:'¿Cuál es el nombre oficial del país? \\na) Estados peruanos\\nb) República del Perú \\nc) Reino del Perú\\nd) Estado del Perú',\n",
    "2:'¿Contra cuál país se enfrentó Perú en la Guerra del Pacífico? \\na) Bolivia\\nb) Argentina \\nc) Ecuador \\nd) Chile',\n",
    "3:'¿Cuál es la moneda oficial? \\na) Sol\\nb) Peso \\nc) Dólar\\nd) Inti',\n",
    "4:'¿En cuántos departamento se divide el país ? \\na) 22\\nb) 24 \\nc) 26\\nd) 25',\n",
    "5:'¿Quién fue el último soberano inca? \\na) Atahualpa\\nb) Huayna Cápac \\nc) Huáscar\\nd) Huiracoch',\n",
    "6:'¿Cuál científico peruano fue un pionero de la astronáutica y de la era espacial? \\na) Pedro Paulet\\nb) Antúnez de Mayolo \\nc) Daniel Carrión\\nd) Federico Villareal',\n",
    "7:'¿Cuándo salió a la venta El Diario de Lima? \\na) 1815\\nb) 1839 \\nc) 1790\\nd) 1707',\n",
    "8:'¿Cuándo se celebra el Día de la Bandera? \\na) 28 de julio\\nb) 7 julio \\nc) 1 de mayo\\nd) 9 de junio',\n",
    "9:'¿Cuál río se forma por la confluencia del río Marañón y el río Ucayali? \\na) Cauca\\nb) Paraná \\nc) Orinoco\\nd) Amazonas'\n",
    "}\n",
    "answers=['b','d','a','b','a','a','c','b','d']"
   ]
  },
  {
   "cell_type": "code",
   "execution_count": 2,
   "metadata": {},
   "outputs": [
    {
     "name": "stdout",
     "output_type": "stream",
     "text": [
      "Los número son iguales 5 = 5\n"
     ]
    }
   ],
   "source": [
    "try:\n",
    "    number1= int(input('Ingrese primer número: '))\n",
    "    number2= int(input('Ingrese segundo número: '))\n",
    "    if number1>number2:\n",
    "        print(f\"El número mayor es {number1} \")\n",
    "    elif number2>number1:\n",
    "        print(f\"El número mayor es {number2} \")\n",
    "    else:\n",
    "        print(f\"Los número son iguales {number2} = {number2}\")\n",
    "except:\n",
    "    print('Valor no definido')"
   ]
  },
  {
   "cell_type": "code",
   "execution_count": 9,
   "metadata": {},
   "outputs": [],
   "source": [
    "def mostrarPreguntas( val) :\n",
    "    pregunta =questions[val].split('\\n')\n",
    "    for i in range(len(pregunta)):\n",
    "        print(pregunta[i])"
   ]
  },
  {
   "cell_type": "code",
   "execution_count": 3,
   "metadata": {},
   "outputs": [
    {
     "name": "stdout",
     "output_type": "stream",
     "text": [
      "\n",
      "Puntaje obtenido: 1 \n",
      "\n",
      "Respuesta incorrectas: 6\n",
      "\n"
     ]
    }
   ],
   "source": [
    "co=1\n",
    "inc=6\n",
    "\n",
    "print(f'''\n",
    "Puntaje obtenido: {co} \\n\n",
    "Respuesta incorrectas: {inc}\n",
    "''')"
   ]
  },
  {
   "cell_type": "code",
   "execution_count": 64,
   "metadata": {},
   "outputs": [
    {
     "name": "stdout",
     "output_type": "stream",
     "text": [
      "0\n",
      "m\n"
     ]
    },
    {
     "data": {
      "text/plain": [
       "{'error': 'La opción eligido no es correcto'}"
      ]
     },
     "execution_count": 64,
     "metadata": {},
     "output_type": "execute_result"
    }
   ],
   "source": [
    "seleccionarRespuesta(0)"
   ]
  },
  {
   "cell_type": "code",
   "execution_count": 50,
   "metadata": {},
   "outputs": [
    {
     "name": "stdout",
     "output_type": "stream",
     "text": [
      "¿Cuál es el nombre oficial del país? \n",
      "a) Estados peruanos\n",
      "b) República del Perú \n",
      "c) Reino del Perú\n",
      "d) Estado del Perú\n",
      "\n",
      "\n",
      "0\n",
      "b\n",
      "La opción eligido no es correcto\n",
      "\n",
      "\n",
      "¿Cuál es el nombre oficial del país? \n",
      "a) Estados peruanos\n",
      "b) República del Perú \n",
      "c) Reino del Perú\n",
      "d) Estado del Perú\n",
      "\n",
      "\n"
     ]
    },
    {
     "ename": "KeyboardInterrupt",
     "evalue": "Interrupted by user",
     "output_type": "error",
     "traceback": [
      "\u001b[1;31m---------------------------------------------------------------------------\u001b[0m",
      "\u001b[1;31mKeyboardInterrupt\u001b[0m                         Traceback (most recent call last)",
      "Cell \u001b[1;32mIn [50], line 8\u001b[0m\n\u001b[0;32m      6\u001b[0m mostrarPreguntas(y\u001b[38;5;241m+\u001b[39m\u001b[38;5;241m1\u001b[39m)\n\u001b[0;32m      7\u001b[0m \u001b[38;5;28mprint\u001b[39m(\u001b[38;5;124m'\u001b[39m\u001b[38;5;130;01m\\n\u001b[39;00m\u001b[38;5;124m'\u001b[39m)\n\u001b[1;32m----> 8\u001b[0m select\u001b[38;5;241m=\u001b[39m\u001b[43mseleccionarRespuesta\u001b[49m\u001b[43m(\u001b[49m\u001b[43my\u001b[49m\u001b[43m)\u001b[49m\n\u001b[0;32m      9\u001b[0m \u001b[38;5;28;01mif\u001b[39;00m select\u001b[38;5;241m.\u001b[39mget(\u001b[38;5;124m'\u001b[39m\u001b[38;5;124msuccess\u001b[39m\u001b[38;5;124m'\u001b[39m) \u001b[38;5;129;01mor\u001b[39;00m select\u001b[38;5;241m.\u001b[39mget(\u001b[38;5;124m'\u001b[39m\u001b[38;5;124mincorrect\u001b[39m\u001b[38;5;124m'\u001b[39m):\n\u001b[0;32m     10\u001b[0m     \u001b[38;5;28;01mif\u001b[39;00m select\u001b[38;5;241m.\u001b[39mget(\u001b[38;5;124m'\u001b[39m\u001b[38;5;124msuccess\u001b[39m\u001b[38;5;124m'\u001b[39m):\n",
      "Cell \u001b[1;32mIn [49], line 2\u001b[0m, in \u001b[0;36mseleccionarRespuesta\u001b[1;34m(r)\u001b[0m\n\u001b[0;32m      1\u001b[0m \u001b[38;5;28;01mdef\u001b[39;00m \u001b[38;5;21mseleccionarRespuesta\u001b[39m(r):\n\u001b[1;32m----> 2\u001b[0m     answer\u001b[38;5;241m=\u001b[39m\u001b[38;5;28;43minput\u001b[39;49m\u001b[43m(\u001b[49m\u001b[38;5;124;43m'\u001b[39;49m\u001b[38;5;124;43mElige tu respueta: \u001b[39;49m\u001b[38;5;124;43m'\u001b[39;49m\u001b[43m)\u001b[49m\n\u001b[0;32m      3\u001b[0m     \u001b[38;5;28mprint\u001b[39m(r)\n\u001b[0;32m      4\u001b[0m     \u001b[38;5;28mprint\u001b[39m(answer)\n",
      "File \u001b[1;32mc:\\Users\\Pelayo\\AppData\\Local\\Programs\\Python\\Python310\\lib\\site-packages\\ipykernel\\kernelbase.py:1177\u001b[0m, in \u001b[0;36mKernel.raw_input\u001b[1;34m(self, prompt)\u001b[0m\n\u001b[0;32m   <a href='file:///c%3A/Users/Pelayo/AppData/Local/Programs/Python/Python310/lib/site-packages/ipykernel/kernelbase.py?line=1172'>1173</a>\u001b[0m \u001b[39mif\u001b[39;00m \u001b[39mnot\u001b[39;00m \u001b[39mself\u001b[39m\u001b[39m.\u001b[39m_allow_stdin:\n\u001b[0;32m   <a href='file:///c%3A/Users/Pelayo/AppData/Local/Programs/Python/Python310/lib/site-packages/ipykernel/kernelbase.py?line=1173'>1174</a>\u001b[0m     \u001b[39mraise\u001b[39;00m StdinNotImplementedError(\n\u001b[0;32m   <a href='file:///c%3A/Users/Pelayo/AppData/Local/Programs/Python/Python310/lib/site-packages/ipykernel/kernelbase.py?line=1174'>1175</a>\u001b[0m         \u001b[39m\"\u001b[39m\u001b[39mraw_input was called, but this frontend does not support input requests.\u001b[39m\u001b[39m\"\u001b[39m\n\u001b[0;32m   <a href='file:///c%3A/Users/Pelayo/AppData/Local/Programs/Python/Python310/lib/site-packages/ipykernel/kernelbase.py?line=1175'>1176</a>\u001b[0m     )\n\u001b[1;32m-> <a href='file:///c%3A/Users/Pelayo/AppData/Local/Programs/Python/Python310/lib/site-packages/ipykernel/kernelbase.py?line=1176'>1177</a>\u001b[0m \u001b[39mreturn\u001b[39;00m \u001b[39mself\u001b[39;49m\u001b[39m.\u001b[39;49m_input_request(\n\u001b[0;32m   <a href='file:///c%3A/Users/Pelayo/AppData/Local/Programs/Python/Python310/lib/site-packages/ipykernel/kernelbase.py?line=1177'>1178</a>\u001b[0m     \u001b[39mstr\u001b[39;49m(prompt),\n\u001b[0;32m   <a href='file:///c%3A/Users/Pelayo/AppData/Local/Programs/Python/Python310/lib/site-packages/ipykernel/kernelbase.py?line=1178'>1179</a>\u001b[0m     \u001b[39mself\u001b[39;49m\u001b[39m.\u001b[39;49m_parent_ident[\u001b[39m\"\u001b[39;49m\u001b[39mshell\u001b[39;49m\u001b[39m\"\u001b[39;49m],\n\u001b[0;32m   <a href='file:///c%3A/Users/Pelayo/AppData/Local/Programs/Python/Python310/lib/site-packages/ipykernel/kernelbase.py?line=1179'>1180</a>\u001b[0m     \u001b[39mself\u001b[39;49m\u001b[39m.\u001b[39;49mget_parent(\u001b[39m\"\u001b[39;49m\u001b[39mshell\u001b[39;49m\u001b[39m\"\u001b[39;49m),\n\u001b[0;32m   <a href='file:///c%3A/Users/Pelayo/AppData/Local/Programs/Python/Python310/lib/site-packages/ipykernel/kernelbase.py?line=1180'>1181</a>\u001b[0m     password\u001b[39m=\u001b[39;49m\u001b[39mFalse\u001b[39;49;00m,\n\u001b[0;32m   <a href='file:///c%3A/Users/Pelayo/AppData/Local/Programs/Python/Python310/lib/site-packages/ipykernel/kernelbase.py?line=1181'>1182</a>\u001b[0m )\n",
      "File \u001b[1;32mc:\\Users\\Pelayo\\AppData\\Local\\Programs\\Python\\Python310\\lib\\site-packages\\ipykernel\\kernelbase.py:1219\u001b[0m, in \u001b[0;36mKernel._input_request\u001b[1;34m(self, prompt, ident, parent, password)\u001b[0m\n\u001b[0;32m   <a href='file:///c%3A/Users/Pelayo/AppData/Local/Programs/Python/Python310/lib/site-packages/ipykernel/kernelbase.py?line=1215'>1216</a>\u001b[0m             \u001b[39mbreak\u001b[39;00m\n\u001b[0;32m   <a href='file:///c%3A/Users/Pelayo/AppData/Local/Programs/Python/Python310/lib/site-packages/ipykernel/kernelbase.py?line=1216'>1217</a>\u001b[0m \u001b[39mexcept\u001b[39;00m \u001b[39mKeyboardInterrupt\u001b[39;00m:\n\u001b[0;32m   <a href='file:///c%3A/Users/Pelayo/AppData/Local/Programs/Python/Python310/lib/site-packages/ipykernel/kernelbase.py?line=1217'>1218</a>\u001b[0m     \u001b[39m# re-raise KeyboardInterrupt, to truncate traceback\u001b[39;00m\n\u001b[1;32m-> <a href='file:///c%3A/Users/Pelayo/AppData/Local/Programs/Python/Python310/lib/site-packages/ipykernel/kernelbase.py?line=1218'>1219</a>\u001b[0m     \u001b[39mraise\u001b[39;00m \u001b[39mKeyboardInterrupt\u001b[39;00m(\u001b[39m\"\u001b[39m\u001b[39mInterrupted by user\u001b[39m\u001b[39m\"\u001b[39m) \u001b[39mfrom\u001b[39;00m \u001b[39mNone\u001b[39m\n\u001b[0;32m   <a href='file:///c%3A/Users/Pelayo/AppData/Local/Programs/Python/Python310/lib/site-packages/ipykernel/kernelbase.py?line=1219'>1220</a>\u001b[0m \u001b[39mexcept\u001b[39;00m \u001b[39mException\u001b[39;00m:\n\u001b[0;32m   <a href='file:///c%3A/Users/Pelayo/AppData/Local/Programs/Python/Python310/lib/site-packages/ipykernel/kernelbase.py?line=1220'>1221</a>\u001b[0m     \u001b[39mself\u001b[39m\u001b[39m.\u001b[39mlog\u001b[39m.\u001b[39mwarning(\u001b[39m\"\u001b[39m\u001b[39mInvalid Message:\u001b[39m\u001b[39m\"\u001b[39m, exc_info\u001b[39m=\u001b[39m\u001b[39mTrue\u001b[39;00m)\n",
      "\u001b[1;31mKeyboardInterrupt\u001b[0m: Interrupted by user"
     ]
    }
   ],
   "source": [
    "y=0\n",
    "co=0\n",
    "inc=0\n",
    "input('Enter para continuar')\n",
    "while y<=len(questions):\n",
    "    mostrarPreguntas(y+1)\n",
    "    print('\\n')\n",
    "    select=seleccionarRespuesta(y)\n",
    "    if select.get('success') or select.get('incorrect'):\n",
    "        if select.get('success'):\n",
    "            print(select['success'])\n",
    "            co+=5\n",
    "        else:\n",
    "            print(select['incorrect'])\n",
    "            inc+=1\n",
    "        y+=1\n",
    "    else:\n",
    "        print(select['error'])\n",
    "        print('\\n')\n",
    "\n",
    "\n",
    "print('''\n",
    "Puntaje obtenido: {co} \\n\n",
    "Respuesta incorrectas: {inco}\n",
    "''')"
   ]
  },
  {
   "cell_type": "code",
   "execution_count": 42,
   "metadata": {},
   "outputs": [
    {
     "name": "stdout",
     "output_type": "stream",
     "text": [
      "¿Cuál es el nombre oficial del país? \n",
      "a) Estados peruanos\n",
      "b) República del Perú \n",
      "c) Reino del Perú\n",
      "d) Estado del Perú\n",
      "Oups, Respuesta Incorrecta\n",
      "¿Contra cuál país se enfrentó Perú en la Guerra del Pacífico? \n",
      "a) Bolivia\n",
      "b) Argentina \n",
      "c) Ecuador \n",
      "d) Chile\n",
      "La opción eligido no es correcto\n"
     ]
    }
   ],
   "source": [
    "cout =0\n",
    "for y in range(len(questions)):\n",
    "    if y==cout:\n",
    "        mostrarPreguntas(y+1)\n",
    "        select=seleccionarRespuesta(y)\n",
    "        if select.get('success') or select.get('incorrect'):\n",
    "            if select.get('success'):\n",
    "                print(select['success'])\n",
    "            else:\n",
    "                print(select['incorrect'])\n",
    "            cout+=1\n",
    "        else:\n",
    "          print(select['error'])  \n",
    "    else:\n",
    "        pass"
   ]
  },
  {
   "cell_type": "code",
   "execution_count": 40,
   "metadata": {},
   "outputs": [
    {
     "name": "stdout",
     "output_type": "stream",
     "text": [
      "La opción eligido no es correcto\n"
     ]
    }
   ],
   "source": [
    "select=seleccionarRespuesta(1)\n",
    "if select.get('error'):\n",
    "\tprint(select['error'])\n",
    "else:\n",
    "\tprint('Otra opción')\n"
   ]
  },
  {
   "cell_type": "code",
   "execution_count": null,
   "metadata": {},
   "outputs": [],
   "source": [
    "mostrarPreguntas(9)"
   ]
  }
 ],
 "metadata": {
  "interpreter": {
   "hash": "c6e52dc71b45c8205113d869a3ac3de726ff4f2c47a0d3db997b1fae0d8ff2dc"
  },
  "kernelspec": {
   "display_name": "Python 3.10.7 64-bit",
   "language": "python",
   "name": "python3"
  },
  "language_info": {
   "codemirror_mode": {
    "name": "ipython",
    "version": 3
   },
   "file_extension": ".py",
   "mimetype": "text/x-python",
   "name": "python",
   "nbconvert_exporter": "python",
   "pygments_lexer": "ipython3",
   "version": "3.10.7"
  },
  "orig_nbformat": 4
 },
 "nbformat": 4,
 "nbformat_minor": 2
}
